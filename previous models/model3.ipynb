version https://git-lfs.github.com/spec/v1
oid sha256:b8b540f60de3c13bce0a714bc3f537cf6f09345655ee746bdb6d2f6867ba2bc3
size 122892000
